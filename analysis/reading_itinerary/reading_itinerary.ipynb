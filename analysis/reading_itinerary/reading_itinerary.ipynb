{
 "cells": [
  {
   "cell_type": "code",
   "execution_count": null,
   "metadata": {},
   "outputs": [],
   "source": [
    "\"\"\"Interactive map made with folium of the books I've read and the places I've been\"\"\""
   ]
  },
  {
   "cell_type": "code",
   "execution_count": 29,
   "metadata": {},
   "outputs": [],
   "source": [
    "import folium"
   ]
  },
  {
   "cell_type": "code",
   "execution_count": 43,
   "metadata": {},
   "outputs": [
    {
     "data": {
      "text/plain": [
       "<folium.features.GeoJson at 0x7fdc20e4b370>"
      ]
     },
     "execution_count": 43,
     "metadata": {},
     "output_type": "execute_result"
    }
   ],
   "source": [
    "political_countries_url = (\"http://geojson.xyz/naturalearth-3.3.0/ne_50m_admin_0_countries.geojson\")\n",
    "m = folium.Map(location=(30, 10), zoom_start=2, tiles=\"cartodb positron\")\n",
    "def style_function(feature):\n",
    "    return {\n",
    "        'fillColor': '#F2F2F2',\n",
    "        'color': '#333333',      \n",
    "        'weight': 0.5,           \n",
    "        'opacity': 0.7,\n",
    "    }\n",
    "folium.GeoJson(political_countries_url, style_function=style_function).add_to(m)"
   ]
  },
  {
   "cell_type": "code",
   "execution_count": 44,
   "metadata": {},
   "outputs": [],
   "source": [
    "locations = {\n",
    "    'Lisbon': {'Latitude': 38.7223, 'Longitude': -9.1393},\n",
    "    'Lima': {'Latitude': -12.0464, 'Longitude': -77.0428},\n",
    "    'Boston': {'Latitude': 42.3601, 'Longitude': -71.0589},\n",
    "    'Amsterdam': {'Latitude': 52.3676, 'Longitude': 4.9041},\n",
    "    'Washington DC': {'Latitude': 38.9072, 'Longitude': -77.0369},\n",
    "    'Paris': {'Latitude': 48.8566, 'Longitude': 2.3522},\n",
    "    'Budapest': {'Latitude': 47.4979, 'Longitude': 19.0402},\n",
    "    'Vienna': {'Latitude': 48.2082, 'Longitude': 16.3738},\n",
    "    'Salzburg': {'Latitude': 47.8095, 'Longitude': 13.0550},\n",
    "    'Innsbruck': {'Latitude': 47.2692, 'Longitude': 11.4041},\n",
    "    'Zurich': {'Latitude': 47.3769, 'Longitude': 8.5417},\n",
    "    'Lucerne': {'Latitude': 47.0502, 'Longitude': 8.3093},\n",
    "    'Lugano': {'Latitude': 46.0037, 'Longitude': 8.9511},\n",
    "    'Genoa': {'Latitude': 44.4056, 'Longitude': 8.9463}\n",
    "}"
   ]
  },
  {
   "cell_type": "code",
   "execution_count": 50,
   "metadata": {},
   "outputs": [],
   "source": [
    "# drawing the points on the map\n",
    "for name, coord in locations.items():\n",
    "    lat, long = coord['Latitude'], coord['Longitude']\n",
    "    folium.Marker((lat, long), popup=name, icon=folium.Icon(icon=\"map-marker\", prefix=\"fa\", color=\"red\")).add_to(m)"
   ]
  },
  {
   "cell_type": "code",
   "execution_count": 52,
   "metadata": {},
   "outputs": [],
   "source": [
    "order = [\"Lima\", \"Boston\", \"DC\", \"Boston\", \"Lisbon\", \"Amsterdam\", \"Lisbon\", \"Boston\", \"Lima\", \"Boston\", \"Paris\", \"Budapest\", \"Vienna\", \"Salzburg\", \"Innsbruck\", \"Zurich\", \"Luzerne\", \"Lugano\", \"Genoa\"]"
   ]
  },
  {
   "cell_type": "code",
   "execution_count": 53,
   "metadata": {},
   "outputs": [],
   "source": [
    "m.save(\"reading_itinerary.html\")"
   ]
  }
 ],
 "metadata": {
  "kernelspec": {
   "display_name": "geos2",
   "language": "python",
   "name": "python3"
  },
  "language_info": {
   "codemirror_mode": {
    "name": "ipython",
    "version": 3
   },
   "file_extension": ".py",
   "mimetype": "text/x-python",
   "name": "python",
   "nbconvert_exporter": "python",
   "pygments_lexer": "ipython3",
   "version": "3.10.14"
  }
 },
 "nbformat": 4,
 "nbformat_minor": 2
}
