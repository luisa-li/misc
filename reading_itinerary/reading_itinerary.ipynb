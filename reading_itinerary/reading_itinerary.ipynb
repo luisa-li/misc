{
 "cells": [
  {
   "cell_type": "code",
   "execution_count": 1,
   "metadata": {},
   "outputs": [
    {
     "data": {
      "text/plain": [
       "\"Interactive map made with folium of the books I've read and the places I've been\""
      ]
     },
     "execution_count": 1,
     "metadata": {},
     "output_type": "execute_result"
    }
   ],
   "source": [
    "\"\"\"Interactive map made with folium of the books I've read and the places I've been\"\"\""
   ]
  },
  {
   "cell_type": "code",
   "execution_count": 11,
   "metadata": {},
   "outputs": [],
   "source": [
    "import folium\n",
    "import numpy as np \n",
    "import matplotlib.pyplot as plt\n",
    "from matplotlib.colors import LinearSegmentedColormap"
   ]
  },
  {
   "cell_type": "code",
   "execution_count": 12,
   "metadata": {},
   "outputs": [
    {
     "data": {
      "text/plain": [
       "<folium.features.GeoJson at 0x7fea40e4b580>"
      ]
     },
     "execution_count": 12,
     "metadata": {},
     "output_type": "execute_result"
    }
   ],
   "source": [
    "political_countries_url = (\"http://geojson.xyz/naturalearth-3.3.0/ne_50m_admin_0_countries.geojson\")\n",
    "m = folium.Map(location=(30, 10), zoom_start=2, tiles=\"cartodb positron\")\n",
    "def style_function(feature):\n",
    "    return {\n",
    "        'fillColor': '#F2F2F2',\n",
    "        'color': '#333333',      \n",
    "        'weight': 0.5,           \n",
    "        'opacity': 0.7,\n",
    "    }\n",
    "folium.GeoJson(political_countries_url, style_function=style_function).add_to(m)"
   ]
  },
  {
   "cell_type": "code",
   "execution_count": 13,
   "metadata": {},
   "outputs": [],
   "source": [
    "locations = {\n",
    "    'Lisbon': {'Latitude': 38.7223, 'Longitude': -9.1393},\n",
    "    'Lima': {'Latitude': -12.0464, 'Longitude': -77.0428},\n",
    "    'Boston': {'Latitude': 42.3601, 'Longitude': -71.0589},\n",
    "    'Amsterdam': {'Latitude': 52.3676, 'Longitude': 4.9041},\n",
    "    'DC': {'Latitude': 38.9072, 'Longitude': -77.0369},\n",
    "    'Paris': {'Latitude': 48.8566, 'Longitude': 2.3522},\n",
    "    'Budapest': {'Latitude': 47.4979, 'Longitude': 19.0402},\n",
    "    'Vienna': {'Latitude': 48.2082, 'Longitude': 16.3738},\n",
    "    'Salzburg': {'Latitude': 47.8095, 'Longitude': 13.0550},\n",
    "    'Innsbruck': {'Latitude': 47.2692, 'Longitude': 11.4041},\n",
    "    'Zurich': {'Latitude': 47.3769, 'Longitude': 8.5417},\n",
    "    'Lucerne': {'Latitude': 47.0502, 'Longitude': 8.3093},\n",
    "    'Lugano': {'Latitude': 46.0037, 'Longitude': 8.9511},\n",
    "    'Genoa': {'Latitude': 44.4056, 'Longitude': 8.9463}\n",
    "}"
   ]
  },
  {
   "cell_type": "code",
   "execution_count": 14,
   "metadata": {},
   "outputs": [],
   "source": [
    "# drawing the points on the map\n",
    "for name, coord in locations.items():\n",
    "    lat, long = coord['Latitude'], coord['Longitude']\n",
    "    folium.Marker((lat, long), popup=name, icon=folium.Icon(icon=\"map-marker\", prefix=\"fa\", color=\"red\")).add_to(m)"
   ]
  },
  {
   "cell_type": "code",
   "execution_count": 15,
   "metadata": {},
   "outputs": [
    {
     "data": {
      "text/plain": [
       "[([-12.0464, -77.0428], [42.3601, -71.0589]),\n",
       " ([42.3601, -71.0589], [38.9072, -77.0369]),\n",
       " ([38.9072, -77.0369], [42.3601, -71.0589]),\n",
       " ([42.3601, -71.0589], [38.7223, -9.1393]),\n",
       " ([38.7223, -9.1393], [52.3676, 4.9041]),\n",
       " ([52.3676, 4.9041], [38.7223, -9.1393]),\n",
       " ([38.7223, -9.1393], [42.3601, -71.0589]),\n",
       " ([42.3601, -71.0589], [-12.0464, -77.0428]),\n",
       " ([-12.0464, -77.0428], [42.3601, -71.0589]),\n",
       " ([42.3601, -71.0589], [48.8566, 2.3522]),\n",
       " ([48.8566, 2.3522], [47.4979, 19.0402]),\n",
       " ([47.4979, 19.0402], [48.2082, 16.3738]),\n",
       " ([48.2082, 16.3738], [47.8095, 13.055]),\n",
       " ([47.8095, 13.055], [47.2692, 11.4041]),\n",
       " ([47.2692, 11.4041], [47.3769, 8.5417]),\n",
       " ([47.3769, 8.5417], [47.0502, 8.3093]),\n",
       " ([47.0502, 8.3093], [46.0037, 8.9511]),\n",
       " ([46.0037, 8.9511], [44.4056, 8.9463])]"
      ]
     },
     "execution_count": 15,
     "metadata": {},
     "output_type": "execute_result"
    }
   ],
   "source": [
    "# making the different line segments\n",
    "order = [\"Lima\", \"Boston\", \"DC\", \"Boston\", \"Lisbon\", \"Amsterdam\", \"Lisbon\", \"Boston\", \"Lima\", \"Boston\", \"Paris\", \"Budapest\", \"Vienna\", \"Salzburg\", \"Innsbruck\", \"Zurich\", \"Lucerne\", \"Lugano\", \"Genoa\"]\n",
    "segments = []\n",
    "for index in range(len(order) - 1):\n",
    "    coord1, coord2 = locations[order[index]], locations[order[index + 1]]\n",
    "    lat1, long1 = coord1['Latitude'], coord1['Longitude']\n",
    "    lat2, long2 = coord2['Latitude'], coord2['Longitude']\n",
    "    segments.append(([lat1, long1], [lat2, long2]))\n",
    "segments"
   ]
  },
  {
   "cell_type": "code",
   "execution_count": 16,
   "metadata": {},
   "outputs": [],
   "source": [
    "def rainbow(num_colors):\n",
    "    cmap = plt.get_cmap(\"rainbow\")\n",
    "    return [cmap(i / num_colors) for i in range(num_colors)]\n",
    "\n",
    "def to_hex(color):\n",
    "    rgba = np.array(color)\n",
    "    rgb = (rgba[:3] * 255).astype(int)\n",
    "    return \"#{:02x}{:02x}{:02x}\".format(rgb[0], rgb[1], rgb[2])"
   ]
  },
  {
   "cell_type": "code",
   "execution_count": 17,
   "metadata": {},
   "outputs": [],
   "source": [
    "start_color = [255, 0, 0] \n",
    "end_color = [0, 0, 255]\n",
    "gradient_colors = rainbow(len(segments))\n",
    "for index in range(len(segments)):\n",
    "    folium.PolyLine(\n",
    "        locations=segments[index],\n",
    "        color=to_hex(gradient_colors[index]),  \n",
    "        weight=5,     \n",
    "        opacity=0.7\n",
    "    ).add_to(m)\n",
    "# TODO: Add label to each line indicating which book was read in that segment"
   ]
  },
  {
   "cell_type": "code",
   "execution_count": 18,
   "metadata": {},
   "outputs": [],
   "source": [
    "m.save(\"reading_itinerary.html\")"
   ]
  }
 ],
 "metadata": {
  "kernelspec": {
   "display_name": "geos2",
   "language": "python",
   "name": "python3"
  },
  "language_info": {
   "codemirror_mode": {
    "name": "ipython",
    "version": 3
   },
   "file_extension": ".py",
   "mimetype": "text/x-python",
   "name": "python",
   "nbconvert_exporter": "python",
   "pygments_lexer": "ipython3",
   "version": "3.10.14"
  }
 },
 "nbformat": 4,
 "nbformat_minor": 2
}
