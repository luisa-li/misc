{
 "cells": [
  {
   "cell_type": "code",
   "execution_count": 21,
   "metadata": {},
   "outputs": [
    {
     "data": {
      "text/plain": [
       "\"Interactive map made with folium of the books I've read and the places I've been\""
      ]
     },
     "execution_count": 21,
     "metadata": {},
     "output_type": "execute_result"
    }
   ],
   "source": [
    "\"\"\"Interactive map made with folium of the books I've read and the places I've been\"\"\""
   ]
  },
  {
   "cell_type": "code",
   "execution_count": 22,
   "metadata": {},
   "outputs": [],
   "source": [
    "import folium\n",
    "import folium.plugins\n",
    "import numpy as np \n",
    "import matplotlib.pyplot as plt"
   ]
  },
  {
   "cell_type": "code",
   "execution_count": 23,
   "metadata": {},
   "outputs": [
    {
     "data": {
      "text/plain": [
       "<folium.features.GeoJson at 0x7fb608ad61d0>"
      ]
     },
     "execution_count": 23,
     "metadata": {},
     "output_type": "execute_result"
    }
   ],
   "source": [
    "political_countries_url = (\"http://geojson.xyz/naturalearth-3.3.0/ne_50m_admin_0_countries.geojson\")\n",
    "m = folium.Map(location=(30, 0), zoom_start=3, tiles=\"cartodb positron\")\n",
    "def style_function(feature):\n",
    "    return {\n",
    "        'fillColor': '#F2F2F2',\n",
    "        'color': '#333333',      \n",
    "        'weight': 0.5,           \n",
    "        'opacity': 0.7,\n",
    "    }\n",
    "folium.GeoJson(political_countries_url, style_function=style_function).add_to(m)"
   ]
  },
  {
   "cell_type": "code",
   "execution_count": 24,
   "metadata": {},
   "outputs": [],
   "source": [
    "locations = {\n",
    "    'Lisbon': {'Latitude': 38.7223, 'Longitude': -9.1393},\n",
    "    'Lima': {'Latitude': -12.0464, 'Longitude': -77.0428},\n",
    "    'Boston': {'Latitude': 42.3601, 'Longitude': -71.0589},\n",
    "    'Amsterdam': {'Latitude': 52.3676, 'Longitude': 4.9041},\n",
    "    'DC': {'Latitude': 38.9072, 'Longitude': -77.0369},\n",
    "    'Paris': {'Latitude': 48.8566, 'Longitude': 2.3522},\n",
    "    'Budapest': {'Latitude': 47.4979, 'Longitude': 19.0402},\n",
    "    'Vienna': {'Latitude': 48.2082, 'Longitude': 16.3738},\n",
    "    'Salzburg': {'Latitude': 47.8095, 'Longitude': 13.0550},\n",
    "    'Innsbruck': {'Latitude': 47.2692, 'Longitude': 11.4041},\n",
    "    'Zurich': {'Latitude': 47.3769, 'Longitude': 8.5417},\n",
    "    'Lucerne': {'Latitude': 47.0502, 'Longitude': 8.3093},\n",
    "    'Lugano': {'Latitude': 46.0037, 'Longitude': 8.9511},\n",
    "    'Genoa': {'Latitude': 44.4056, 'Longitude': 8.9463},\n",
    "    'Milan': {'Latitude': 45.4685, 'Longitude': 9.1824},\n",
    "    'Madrid': {'Latitude': 40.4167, 'Longitude': 3.7033}\n",
    "}"
   ]
  },
  {
   "cell_type": "code",
   "execution_count": 25,
   "metadata": {},
   "outputs": [],
   "source": [
    "# drawing the points on the map\n",
    "for name, coord in locations.items():\n",
    "    lat, long = coord['Latitude'], coord['Longitude']\n",
    "    folium.Marker((lat, long), popup=name, icon=folium.Icon(icon=\"map-marker\", prefix=\"fa\", color=\"red\")).add_to(m)"
   ]
  },
  {
   "cell_type": "code",
   "execution_count": 26,
   "metadata": {},
   "outputs": [],
   "source": [
    "# making the different line segments\n",
    "order = [\"Lima\", \"Boston\", \"DC\", \"Boston\", \"Lisbon\", \"Amsterdam\", \"Lisbon\", \"Boston\", \"Lima\", \"Boston\", \"Paris\", \"Budapest\", \"Vienna\", \"Salzburg\", \"Innsbruck\", \"Zurich\", \"Lucerne\", \"Lugano\", \"Genoa\", \"Milan\", \"Madrid\", \"Lima\"]\n",
    "descriptions = [\"The Hunger Games\", \"Catching Fire\", \"Catching Fire\", \"Freedom\", \"Freedom\", \"\", \"A long petal of the sea\", \"Mockingjay\", \"Violeta\", \"Violeta\", \"Purity\", \"My Brilliant Friend\", \"My Brilliant Friend\", \"My Brilliant Friend\", \"My Brilliant Friend\", \"My Brilliant Friend\", \"My Brilliant Friend\", \"Pachinko\", \"Pachinko\", \"Pachinko\", \"Pachinko\"]\n",
    "segments = []\n",
    "for index in range(len(order) - 1):\n",
    "    coord1, coord2 = locations[order[index]], locations[order[index + 1]]\n",
    "    lat1, long1 = coord1['Latitude'], coord1['Longitude']\n",
    "    lat2, long2 = coord2['Latitude'], coord2['Longitude']\n",
    "    segments.append(([lat1, long1], [lat2, long2]))\n",
    "assert len(segments) == len(descriptions)"
   ]
  },
  {
   "cell_type": "code",
   "execution_count": 27,
   "metadata": {},
   "outputs": [],
   "source": [
    "def rainbow(num_colors):\n",
    "    cmap = plt.get_cmap(\"rainbow\")\n",
    "    return [cmap(i / num_colors) for i in range(num_colors)]\n",
    "\n",
    "def to_hex(color):\n",
    "    rgba = np.array(color)\n",
    "    rgb = (rgba[:3] * 255).astype(int)\n",
    "    return \"#{:02x}{:02x}{:02x}\".format(rgb[0], rgb[1], rgb[2])"
   ]
  },
  {
   "cell_type": "code",
   "execution_count": 28,
   "metadata": {},
   "outputs": [
    {
     "name": "stdout",
     "output_type": "stream",
     "text": [
      "21 21\n"
     ]
    }
   ],
   "source": [
    "start_color = [255, 0, 0] \n",
    "end_color = [0, 0, 255]\n",
    "gradient_colors = rainbow(len(segments))\n",
    "# these are done just manually for simplicity of logic\n",
    "orientations = ['normal', 'flip', 'normal', 'normal', 'normal', 'flip', 'flip', 'normal', 'normal', 'normal', 'normal', 'flip', 'flip', 'flip', 'flip', 'normal', 'normal', 'normal', 'normal', 'flip', 'flip']\n",
    "offsets = [20, 20, 20, 20, 20, 20, 20, 20, 40, 20, 20, 20, 20, 20, 20, 20, 20, 20, 20, 20, 20]"
   ]
  },
  {
   "cell_type": "code",
   "execution_count": 29,
   "metadata": {},
   "outputs": [],
   "source": [
    "for index in range(len(orientations)):\n",
    "    start, end = segments[index][0], segments[index][1]\n",
    "    line = folium.PolyLine(segments[index], color=to_hex(gradient_colors[index]), weight=5, opacity=1)\n",
    "    attr = {\"font-size\": '15'}\n",
    "    textpath = folium.plugins.PolyLineTextPath(line, \n",
    "                                               (str(index) + \". \" + descriptions[index]) if descriptions[index] != \"\" else \"\", \n",
    "                                               offset=offsets[index], \n",
    "                                               center=True,\n",
    "                                               orientation=orientations[index], \n",
    "                                               attributes=attr)\n",
    "    m.add_child(line)\n",
    "    m.add_child(textpath)"
   ]
  },
  {
   "cell_type": "code",
   "execution_count": 30,
   "metadata": {},
   "outputs": [],
   "source": [
    "m.save(\"reading_itinerary.html\")"
   ]
  }
 ],
 "metadata": {
  "kernelspec": {
   "display_name": "geos2",
   "language": "python",
   "name": "python3"
  },
  "language_info": {
   "codemirror_mode": {
    "name": "ipython",
    "version": 3
   },
   "file_extension": ".py",
   "mimetype": "text/x-python",
   "name": "python",
   "nbconvert_exporter": "python",
   "pygments_lexer": "ipython3",
   "version": "3.10.14"
  }
 },
 "nbformat": 4,
 "nbformat_minor": 2
}
